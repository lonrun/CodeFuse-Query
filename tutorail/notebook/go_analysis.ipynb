{
 "cells": [
  {
   "cell_type": "markdown",
   "metadata": {},
   "source": [
    "这是一个使用CodeFuse-Query分析Go项目的教程。在教程中，你将体验到使用命令行工具对代码仓库进行数据化，然后使用Godel语言来分析这个仓库。"
   ]
  },
  {
   "cell_type": "markdown",
   "metadata": {
    "collapsed": false
   },
   "source": [
    "环境准备：配置cli的路径，你可以将sparrow cli包导出到系统PATH，如 `!export PATH=/Users/cyz/work/opensource/cli:$PATH`："
   ]
  },
  {
   "cell_type": "code",
   "execution_count": 3,
   "metadata": {},
   "outputs": [
    {
     "name": "stdout",
     "output_type": "stream",
     "text": [
      "export PATH=/Users/cyz/work/opensource/cli:$PATH\n",
      "\n"
     ]
    }
   ],
   "source": [
    "!export PATH=/Users/cyz/work/opensource/cli:$PATH"
   ]
  },
  {
   "cell_type": "markdown",
   "metadata": {
    "collapsed": false
   },
   "source": [
    "检查cli是否就绪"
   ]
  },
  {
   "cell_type": "code",
   "execution_count": 10,
   "metadata": {
    "collapsed": false
   },
   "outputs": [
    {
     "name": "stdout",
     "output_type": "stream",
     "text": [
      "which sparrow\n",
      "/Users/cyz/work/opensource/cli/sparrow\n",
      "\n"
     ]
    }
   ],
   "source": [
    "!which sparrow"
   ]
  },
  {
   "cell_type": "markdown",
   "metadata": {
    "collapsed": false
   },
   "source": [
    "STEP 0: 克隆要分析的仓库。我们以 [gorm](https://github.com/go-gorm/gorm.git) 项目为例。"
   ]
  },
  {
   "cell_type": "code",
   "execution_count": null,
   "metadata": {
    "ExecuteTime": {
     "end_time": "2023-11-22T08:30:58.387715Z",
     "start_time": "2023-11-22T08:30:44.572634Z"
    }
   },
   "outputs": [],
   "source": [
    "!git clone https://github.com/go-gorm/gorm.git"
   ]
  },
  {
   "cell_type": "markdown",
   "metadata": {},
   "source": [
    "STEP 1: 代码数据化。使用 `sparrow database create` 命令创建一个db文件，指定待分析的仓库地址（当前目录下的gorm子目录），分析的语言（go），以及db文件的存储路径（放置在当前目录下的/db/gorm）。执行该命令之后，竟会生成一份db文件，该文件存储着代码仓库的结构化数据，之后的分析就是针对这份数据进行。"
   ]
  },
  {
   "cell_type": "code",
   "execution_count": 11,
   "metadata": {
    "ExecuteTime": {
     "end_time": "2023-11-23T03:46:32.220317Z",
     "start_time": "2023-11-23T03:46:12.785705Z"
    }
   },
   "outputs": [
    {
     "name": "stdout",
     "output_type": "stream",
     "text": [
      "sparrow database create --source-root gorm --data-language-typ\n",
      "\n",
      "<base create --source-root gorm --data-language-type                         go --output ./db/gorm\n"
     ]
    }
   ],
   "source": [
    "!sparrow database create --source-root gorm --data-language-type go --output ./db/gorm"
   ]
  },
  {
   "cell_type": "markdown",
   "metadata": {},
   "source": [
    "STEP 2: 使用Godel分析语言分析db文件。在本教程中，可以点击代码左侧的执行按钮，直接运行分析脚本。在命令行中，你可以使用 `sparrow query run` 命令来执行查询脚本，具体可以使用`sparrow query run -h` 来获取详细参数信息。"
   ]
  },
  {
   "cell_type": "markdown",
   "metadata": {
    "collapsed": false
   },
   "source": [
    "<b>示例</b> 查询 [gorm](https://github.com/go-gorm/gorm.git) 的文件代码复杂度信息。\n",
    "\n",
    "第一行通过内核魔法命令指定分析的db路径，后面写查询文件代码复杂度Godel脚本。"
   ]
  },
  {
   "cell_type": "code",
   "execution_count": 4,
   "metadata": {},
   "outputs": [
    {
     "name": "stdout",
     "output_type": "stream",
     "text": [
      "/Users/cyz/work/opensource/db/gorm\n"
     ]
    },
    {
     "name": "stderr",
     "output_type": "stream",
     "text": [
      "\u001b[0;31mSparrow database is set to: /Users/cyz/work/opensource/db/gorm\n",
      "\u001b[0m"
     ]
    },
    {
     "name": "stdout",
     "output_type": "stream",
     "text": [
      "<el-jupyter-hz9fci6t --verbose -d /Users/cyz/work/op                        ensource/db/gormyz/work/o\n",
      "2023-11-23 16:37:52,984 INFO: sparrow bc184bb8 will start\n",
      "2023-11-23 16:37:52,984 INFO: database /Users/cyz/work/opensource/db/gorm/coref_go_src.db size: 41.99 MB\n",
      "2023-11-23 16:37:52,986 INFO: execute : /Users/cyz/work/opensource/cli/godel-script/usr/bin/godel /private/var/folders/8r/_7k9xlsn01d967dg0p74wwpc0000gp/T/godel-jupyter-hz9fci6t/query.gdl -p /Users/cyz/work/opensource/cli/lib-1.0 -o /var/folders/8r/_7k9xlsn01d967dg0p74wwpc0000gp/T/tmph51zpaiy.gdl --verbose\n",
      "[\u001b[32;1m-\u001b[0m][\u001b[32;1m 1.42242 ms\u001b[0m] package scan\n",
      "packages:\n",
      "coref::cfamily    -> /Users/cyz/work/opensource/cli/lib-1.0/coref.cfamily.gdl\n",
      "coref::go         -> /Users/cyz/work/opensource/cli/lib-1.0/coref.go.gdl\n",
      "coref::java       -> /Users/cyz/work/opensource/cli/lib-1.0/coref.java.gdl\n",
      "coref::javascript -> /Users/cyz/work/opensource/cli/lib-1.0/coref.javascript.gdl\n",
      "coref::properties -> /Users/cyz/work/opensource/cli/lib-1.0/coref.properties.gdl\n",
      "coref::python     -> /Users/cyz/work/opensource/cli/lib-1.0/coref.python.gdl\n",
      "coref::sql        -> /Users/cyz/work/opensource/cli/lib-1.0/coref.sql.gdl\n",
      "coref::xml        -> /Users/cyz/work/opensource/cli/lib-1.0/coref.xml.gdl\n",
      "modules\n",
      "+--coref -> coref\n",
      "|--xml -> coref::xml\n",
      "|--properties -> coref::properties\n",
      "|--cfamily -> coref::cfamily\n",
      "|--java -> coref::java\n",
      "|--javascript -> coref::javascript\n",
      "|--go -> coref::go\n",
      "|--sql -> coref::sql\n",
      "+--python -> coref::python\n",
      "[\u001b[32;1m-\u001b[0m][\u001b[32;1m 38.6962 ms\u001b[0m] analyse <coref::go>\n",
      "[\u001b[32;1m-\u001b[0m][\u001b[32;1m 13.5185 ms\u001b[0m] lexical analysis\n",
      "[\u001b[32;1m-\u001b[0m][\u001b[32;1m   9.889 ms\u001b[0m] syntax parse\n",
      "[\u001b[32;1m-\u001b[0m][\u001b[32;1m 11.4932 ms\u001b[0m] semantic analysis\n",
      "[\u001b[32;1m-\u001b[0m][\u001b[32;1m 48.4299 ms\u001b[0m] analyse </private/var/folders/8r/_7k9xlsn01d967dg0p74wwpc0000gp/T/godel-jupyter-hz9fci6t/query.gdl>\n",
      "[\u001b[32;1m-\u001b[0m][\u001b[32;1m 0.25975 ms\u001b[0m] lexical analysis\n",
      "[\u001b[32;1m-\u001b[0m][\u001b[32;1m0.157958 ms\u001b[0m] syntax parse\n",
      "[\u001b[32;1m-\u001b[0m][\u001b[32;1m 45.6874 ms\u001b[0m] semantic analysis\n",
      "[\u001b[32;1m-\u001b[0m][\u001b[32;1m0.064375 ms\u001b[0m] ast lowering\n",
      "[\u001b[32;1m-\u001b[0m][\u001b[32;1m0.451833 ms\u001b[0m] code generation\n",
      "2023-11-23 16:37:53,118 INFO: godel-script compile time: 0.13s\n",
      "2023-11-23 16:37:53,119 INFO: execute : /Users/cyz/work/opensource/cli/godel-1.0/usr/bin/godel /var/folders/8r/_7k9xlsn01d967dg0p74wwpc0000gp/T/tmph51zpaiy.gdl --run-souffle-directly --package-path /Users/cyz/work/opensource/cli/lib-1.0 --souffle-fact-dir /Users/cyz/work/opensource/db/gorm --souffle-output-format json --souffle-output-path /private/var/folders/8r/_7k9xlsn01d967dg0p74wwpc0000gp/T/godel-jupyter-hz9fci6t/query.json --verbose\n",
      "Parse time: 0.0474219sec\n",
      "ComponentChecker time: 0.00672287sec [unchanged]\n",
      "ComponentInstantiationTransformer time: 2.791e-06sec [changed]\n",
      "IODefaultsTransformer time: 7.35e-05sec [changed]\n",
      "SimplifyAggregateTargetExpressionTransformer time: 0.00433087sec [unchanged]\n",
      "UniqueAggregationVariablesTransformer time: 0.00853725sec [changed]\n",
      "ResolveAnonymousRecordAliases time: 0.165008sec [unchanged]\n",
      "FoldAnonymousRecords time: 0.00225771sec [unchanged]\n",
      "GroundWitnessesTransformer time: 0.00640287sec [unchanged]\n",
      "UniqueAggregationVariablesTransformer time: 0.00882492sec [unchanged]\n",
      "MaterializeSingletonAggregationTransformer time: 0.00838508sec [unchanged]\n",
      "MaterializeAggregationQueriesTransformer time: 0.0235452sec [changed]\n",
      "MaterializeAggregationQueriesTransformer time: 0.00537175sec [unchanged]\n",
      "RemoveRedundantSumsTransformer time: 0.00229796sec [unchanged]\n",
      "NormaliseGeneratorsTransformer time: 0.001902sec [changed]\n",
      "ResolveAliasesTransformer time: 0.0308496sec [changed]\n",
      "RemoveBooleanConstraintsTransformer time: 0.00774079sec [unchanged]\n",
      "ResolveAliasesTransformer time: 0.0242231sec [unchanged]\n",
      "InlineUnmarkExcludedTransform time: 0.00058175sec [unchanged]\n",
      "InlineRelationsTransformer time: 0.110386sec [changed]\n",
      "GroundedTermsChecker time: 0.022148sec [unchanged]\n",
      "ResolveAliasesTransformer time: 0.0264493sec [changed]\n",
      "RemoveRedundantRelationsTransformer time: 0.0234581sec [changed]\n",
      "RemoveRelationCopiesTransformer time: 0.00118629sec [changed]\n",
      "RemoveEmptyRelationsTransformer time: 0.000659083sec [unchanged]\n",
      "ReplaceSingletonVariablesTransformer time: 0.000828708sec [changed]\n",
      "ReduceExistentialsTransformer time: 0.00196704sec [unchanged]\n",
      "RemoveRedundantRelationsTransformer time: 0.00112871sec [unchanged]\n",
      "RemoveRelationCopiesTransformer time: 0.000272083sec [unchanged]\n",
      "NameUnnamedVariablesTransformer time: 0.000529375sec [changed]\n",
      "PartitionBodyLiteralsTransformer time: 0.00223196sec [unchanged]\n",
      "ReplaceSingletonVariablesTransformer time: 0.00102117sec [changed]\n",
      "NameUnnamedVariablesTransformer time: 0.000487041sec [changed]\n",
      "ReplaceSingletonVariablesTransformer time: 0.00102908sec [changed]\n",
      "RemoveRelationCopiesTransformer time: 0.000535084sec [unchanged]\n",
      "RemoveEmptyRelationsTransformer time: 0.000383667sec [unchanged]\n",
      "RemoveRedundantRelationsTransformer time: 0.00111829sec [unchanged]\n",
      "RemoveRelationCopiesTransformer time: 0.000524375sec [unchanged]\n",
      "ResolveAliasesTransformer time: 0.00305392sec [unchanged]\n",
      "RemoveRelationCopiesTransformer time: 0.000268sec [unchanged]\n",
      "RemoveEmptyRelationsTransformer time: 0.000384625sec [unchanged]\n",
      "RemoveRedundantRelationsTransformer time: 0.00110667sec [unchanged]\n",
      "NameUnnamedVariablesTransformer time: 0.000501667sec [changed]\n",
      "ReplaceSingletonVariablesTransformer time: 0.00100963sec [changed]\n",
      "RemoveRelationCopiesTransformer time: 0.000524458sec [unchanged]\n",
      "RemoveEmptyRelationsTransformer time: 0.000380625sec [unchanged]\n",
      "RemoveRedundantRelationsTransformer time: 0.00110662sec [unchanged]\n",
      "RemoveEmptyRelationsTransformer time: 0.000668125sec [unchanged]\n",
      "AddNullariesToAtomlessAggregatesTransformer time: 0.000266834sec [unchanged]\n",
      "ExecutionPlanChecker time: 0.0106324sec [unchanged]\n",
      "IOAttributesTransformer time: 0.00144158sec [changed]\n",
      "ExpandFilterTransformer time: 0.00102812sec [unchanged]\n",
      "HoistConditionsTransformer time: 0.00576246sec [changed]\n",
      "MakeIndexTransformer time: 0.00293917sec [changed]\n",
      "ExpandFilterTransformer time: 0.00155208sec [changed]\n",
      "HoistConditionsTransformer time: 0.00509296sec [changed]\n",
      "MakeIndexTransformer time: 0.00117758sec [unchanged]\n",
      "IfConversionTransformer time: 0.00144608sec [changed]\n",
      "IfExistsConversionTransformer time: 0.00160363sec [changed]\n",
      "CollapseFiltersTransformer time: 0.000882667sec [changed]\n",
      "TupleIdTransformer time: 0.000764625sec [changed]\n",
      "HoistAggregateTransformer time: 0.00156854sec [changed]\n",
      "TupleIdTransformer time: 0.000752417sec [changed]\n",
      "HoistAggregateTransformer time: 0.00155771sec [changed]\n",
      "TupleIdTransformer time: 0.000739416sec [changed]\n",
      "HoistAggregateTransformer time: 0.00149875sec [unchanged]\n",
      "TupleIdTransformer time: 0.000757sec [unchanged]\n",
      "ExpandFilterTransformer time: 0.00172608sec [changed]\n",
      "HoistConditionsTransformer time: 0.00543583sec [changed]\n",
      "CollapseFiltersTransformer time: 0.000718916sec [unchanged]\n",
      "EliminateDuplicatesTransformer time: 0.000808625sec [changed]\n",
      "ReorderConditionsTransformer time: 0.00468912sec [changed]\n",
      "ReorderFilterBreak time: 0.000377958sec [unchanged]\n",
      "ReportIndexTransformer time: 0.00376092sec [unchanged]\n",
      "Starting work on AllData_DBIndex([1,1]). in file <in-memory> [4371:1-4371:25]\n",
      "Starting work on AllData_S_11N_5coref2go_10LocationDO([1,1],oid,start_line_number,start_column_number,end_line_number,end_column_number,token_start_offset,token_end_offset) :-     Load_D_11N_5coref2go_4GoDB_Time1_S_11N_5coref2go_10LocationDO(oid,start_line_number,start_column_number,end_line_number,end_column_number,token_start_offset,token_end_offset). in file <in-memory> [4342:1-4342:349]\n",
      "Starting work on TypeCheck_S_11N_5coref2go_10LocationDO(db_id,item) :-     AllData_S_11N_5coref2go_10LocationDO(db_id,item,_,_,_,_,_,_). in file <in-memory> [3247:1-3247:124]\n",
      "Starting work on DataConstraintHelper_f_25S_11N_5coref2go_8Location_7__all__(field_id,db,field_id) :-     TypeCheck_S_11N_5coref2go_10LocationDO(db,field_id),    AllData_DBIndex(db). in file <in-memory> [2930:1-2930:208]\n",
      "Starting work on AllData_S_11N_5coref2go_8Location(db_id,id) :-     DataConstraintHelper_f_25S_11N_5coref2go_8Location_7__all__(_,db_id,id). in file <in-memory> [4427:1-4427:123]\n",
      "Starting work on f_28S_11N_5coref2go_10LocationDO_16getEndLineNumber(__temp,self) :-     AllData_S_11N_5coref2go_10LocationDO(_,self,_,_,__temp,_,_,_),    TypeCheck_S_11N_5coref2go_10LocationDO(_,self). in file <in-memory> [3823:1-3823:208]\n",
      "Starting work on f_28S_11N_5coref2go_10LocationDO_18getStartLineNumber(__temp,self) :-     AllData_S_11N_5coref2go_10LocationDO(_,self,__temp,_,_,_,_,_),    TypeCheck_S_11N_5coref2go_10LocationDO(_,self). in file <in-memory> [3821:1-3821:212]\n",
      "Starting work on AllData_S_11N_5coref2go_12DocCommentDO([1,1],oid,associate_obj,comment_group_id) :-     Load_D_11N_5coref2go_4GoDB_Time1_S_11N_5coref2go_12DocCommentDO(oid,associate_obj,comment_group_id). in file <in-memory> [4329:1-4329:191]\n",
      "Starting work on TypeCheck_S_11N_5coref2go_12DocCommentDO(db_id,item) :-     AllData_S_11N_5coref2go_12DocCommentDO(db_id,item,_,_). in file <in-memory> [3230:1-3230:116]\n",
      "Starting work on f_30S_11N_5coref2go_12DocCommentDO_15getAssociateObj(__temp,self) :-     AllData_S_11N_5coref2go_12DocCommentDO(_,self,__temp,_),    TypeCheck_S_11N_5coref2go_12DocCommentDO(_,self). in file <in-memory> [2613:1-2613:211]\n",
      "Starting work on AllData_S_11N_5coref2go_14CommentGroupDO([1,1],oid,file_id,parent,idx) :-     Load_D_11N_5coref2go_4GoDB_Time1_S_11N_5coref2go_14CommentGroupDO(oid,file_id,parent,idx). in file <in-memory> [4317:1-4317:173]\n",
      "Starting work on TypeCheck_S_11N_5coref2go_14CommentGroupDO(db_id,item) :-     AllData_S_11N_5coref2go_14CommentGroupDO(db_id,item,_,_,_). in file <in-memory> [3284:1-3284:123]\n",
      "Starting work on f_32S_11N_5coref2go_14CommentGroupDO_9getParent(__temp,self) :-     AllData_S_11N_5coref2go_14CommentGroupDO(_,self,_,__temp,_),    TypeCheck_S_11N_5coref2go_14CommentGroupDO(_,self). in file <in-memory> [3519:1-3519:202]\n",
      "Starting work on AllData_S_11N_5coref2go_6DeclDO([1,1],oid,file_id,kind,parent_id,idx,debug_info) :-     Load_D_11N_5coref2go_4GoDB_Time1_S_11N_5coref2go_6DeclDO(oid,file_id,kind,parent_id,idx,debug_info). in file <in-memory> [4325:1-4325:197]\n",
      "Starting work on TypeCheck_S_11N_5coref2go_6DeclDO(db_id,item) :-     AllData_S_11N_5coref2go_6DeclDO(db_id,item,_,_,_,_,_). in file <in-memory> [4129:1-4129:111]\n",
      "Starting work on f_23S_11N_5coref2go_6DeclDO_7getKind(__temp,self) :-     AllData_S_11N_5coref2go_6DeclDO(_,self,_,__temp,_,_,_),    TypeCheck_S_11N_5coref2go_6DeclDO(_,self). in file <in-memory> [2362:1-2362:171]\n",
      "Starting work on f_21S_11N_5coref2go_4Decl_7getKind(k,self) :-     f_23S_11N_5coref2go_6DeclDO_7getKind(k,self),    TypeCheck_S_11N_5coref2go_6DeclDO(_,self). in file <in-memory> [4137:1-4137:171]\n",
      "Starting work on f_23S_11N_5coref2go_6DeclDO_11getParentId(__temp,self) :-     AllData_S_11N_5coref2go_6DeclDO(_,self,_,_,__temp,_,_),    TypeCheck_S_11N_5coref2go_6DeclDO(_,self). in file <in-memory> [2363:1-2363:181]\n",
      "Starting work on AllData_S_11N_5coref2go_6ExprDO([1,1],oid,file_id,kind,parent_id,idx,debug_info) :-     Load_D_11N_5coref2go_4GoDB_Time1_S_11N_5coref2go_6ExprDO(oid,file_id,kind,parent_id,idx,debug_info). in file <in-memory> [4332:1-4332:197]\n",
      "Starting work on TypeCheck_S_11N_5coref2go_6ExprDO(db_id,item) :-     AllData_S_11N_5coref2go_6ExprDO(db_id,item,_,_,_,_,_). in file <in-memory> [2937:1-2937:111]\n",
      "Starting work on f_23S_11N_5coref2go_6ExprDO_7getKind(__temp,self) :-     AllData_S_11N_5coref2go_6ExprDO(_,self,_,__temp,_,_,_),    TypeCheck_S_11N_5coref2go_6ExprDO(_,self). in file <in-memory> [4294:1-4294:171]\n",
      "Starting work on f_21S_11N_5coref2go_4Expr_7getKind(i,self) :-     f_23S_11N_5coref2go_6ExprDO_7getKind(i,self),    TypeCheck_S_11N_5coref2go_6ExprDO(_,self). in file <in-memory> [3385:1-3385:171]\n",
      "Starting work on f_23S_11N_5coref2go_6ExprDO_6getIdx(__temp,self) :-     AllData_S_11N_5coref2go_6ExprDO(_,self,_,_,_,__temp,_),    TypeCheck_S_11N_5coref2go_6ExprDO(_,self). in file <in-memory> [4296:1-4296:169]\n",
      "Starting work on f_21S_11N_5coref2go_4Expr_6getIdx(i,self) :-     f_23S_11N_5coref2go_6ExprDO_6getIdx(i,self),    TypeCheck_S_11N_5coref2go_6ExprDO(_,self). in file <in-memory> [3381:1-3381:169]\n",
      "Starting work on f_23S_11N_5coref2go_6ExprDO_11getParentId(__temp,self) :-     AllData_S_11N_5coref2go_6ExprDO(_,self,_,_,__temp,_,_),    TypeCheck_S_11N_5coref2go_6ExprDO(_,self). in file <in-memory> [4295:1-4295:181]\n",
      "Starting work on f_23S_11N_5coref2go_6ExprDO_12getDebugInfo(__temp,self) :-     AllData_S_11N_5coref2go_6ExprDO(_,self,_,_,_,_,__temp),    TypeCheck_S_11N_5coref2go_6ExprDO(_,self). in file <in-memory> [4297:1-4297:184]\n",
      "Starting work on f_21S_11N_5coref2go_4Expr_12getDebugInfo(s,self) :-     f_23S_11N_5coref2go_6ExprDO_12getDebugInfo(s,self),    TypeCheck_S_11N_5coref2go_6ExprDO(_,self). in file <in-memory> [3383:1-3383:183]\n",
      "Starting work on AllData_S_11N_5coref2go_6FileDO([1,1],oid,pkg_oid,name,md5_sum,sha256_sum) :-     Load_D_11N_5coref2go_4GoDB_Time1_S_11N_5coref2go_6FileDO(oid,pkg_oid,name,md5_sum,sha256_sum). in file <in-memory> [4335:1-4335:183]\n",
      "Starting work on TypeCheck_S_11N_5coref2go_6FileDO(db_id,item) :-     AllData_S_11N_5coref2go_6FileDO(db_id,item,_,_,_,_). in file <in-memory> [4307:1-4307:108]\n",
      "Starting work on f_23S_11N_5coref2go_6FileDO_7getName(__temp,self) :-     AllData_S_11N_5coref2go_6FileDO(_,self,_,__temp,_,_),    TypeCheck_S_11N_5coref2go_6FileDO(_,self). in file <in-memory> [3540:1-3540:171]\n",
      "Starting work on f_21S_11N_5coref2go_4File_7getName(s,self) :-     f_23S_11N_5coref2go_6FileDO_7getName(s,self),    TypeCheck_S_11N_5coref2go_6FileDO(_,self). in file <in-memory> [2819:1-2819:171]\n",
      "Starting work on f_21S_11N_5coref2go_4File_8isGoFile(self) :-     f_21S_11N_5coref2go_4File_7getName(fname,self),    match(\"^.*(.go)$\", fname). in file <in-memory> [2828:1-2828:125]\n",
      "Starting work on AllData_S_11N_5coref2go_6SpecDO([1,1],oid,kind,parent_id,idx,debug_info) :-     Load_D_11N_5coref2go_4GoDB_Time1_S_11N_5coref2go_6SpecDO(oid,kind,parent_id,idx,debug_info). in file <in-memory> [4358:1-4358:179]\n",
      "Starting work on TypeCheck_S_11N_5coref2go_6SpecDO(db_id,item) :-     AllData_S_11N_5coref2go_6SpecDO(db_id,item,_,_,_,_). in file <in-memory> [4028:1-4028:108]\n",
      "Starting work on f_23S_11N_5coref2go_6SpecDO_11getParentId(__temp,self) :-     AllData_S_11N_5coref2go_6SpecDO(_,self,_,__temp,_,_),    TypeCheck_S_11N_5coref2go_6SpecDO(_,self). in file <in-memory> [4178:1-4178:181]\n",
      "Starting work on AllData_S_11N_5coref2go_6StmtDO([1,1],oid,file_id,kind,parent_id,idx,debug_info) :-     Load_D_11N_5coref2go_4GoDB_Time1_S_11N_5coref2go_6StmtDO(oid,file_id,kind,parent_id,idx,debug_info). in file <in-memory> [4359:1-4359:197]\n",
      "Starting work on TypeCheck_S_11N_5coref2go_6StmtDO(db_id,item) :-     AllData_S_11N_5coref2go_6StmtDO(db_id,item,_,_,_,_,_). in file <in-memory> [2431:1-2431:111]\n",
      "Starting work on f_23S_11N_5coref2go_6StmtDO_11getParentId(__temp,self) :-     AllData_S_11N_5coref2go_6StmtDO(_,self,_,_,__temp,_,_),    TypeCheck_S_11N_5coref2go_6StmtDO(_,self). in file <in-memory> [4219:1-4219:181]\n",
      "Starting work on f_23S_11N_5coref2go_6StmtDO_7getKind(__temp,self) :-     AllData_S_11N_5coref2go_6StmtDO(_,self,_,__temp,_,_,_),    TypeCheck_S_11N_5coref2go_6StmtDO(_,self). in file <in-memory> [4218:1-4218:171]\n",
      "Starting work on f_26S_11N_5coref2go_9Statement_7getKind(k,self) :-     f_23S_11N_5coref2go_6StmtDO_7getKind(k,self),    TypeCheck_S_11N_5coref2go_6StmtDO(_,self). in file <in-memory> [4224:1-4224:176]\n",
      "Starting work on f_23S_11N_5coref2go_6StmtDO_12getDebugInfo(__temp,self) :-     AllData_S_11N_5coref2go_6StmtDO(_,self,_,_,_,_,__temp),    TypeCheck_S_11N_5coref2go_6StmtDO(_,self). in file <in-memory> [4221:1-4221:184]\n",
      "Starting work on AllData_S_11N_5coref2go_8FieldsDO([1,1],oid,parent_id,idx,kind) :-     Load_D_11N_5coref2go_4GoDB_Time1_S_11N_5coref2go_8FieldsDO(oid,parent_id,idx,kind). in file <in-memory> [4334:1-4334:159]\n",
      "Starting work on TypeCheck_S_11N_5coref2go_8FieldsDO(db_id,item) :-     AllData_S_11N_5coref2go_8FieldsDO(db_id,item,_,_,_). in file <in-memory> [2966:1-2966:109]\n",
      "Starting work on f_25S_11N_5coref2go_8FieldsDO_11getParentId(__temp,self) :-     AllData_S_11N_5coref2go_8FieldsDO(_,self,__temp,_,_),    TypeCheck_S_11N_5coref2go_8FieldsDO(_,self). in file <in-memory> [2617:1-2617:187]\n",
      "Starting work on AllData_S_11N_5coref2go_9CommentDO([1,1],oid,file_id,comment_type,parent,index,debug_info) :-     Load_D_11N_5coref2go_4GoDB_Time1_S_11N_5coref2go_9CommentDO(oid,file_id,comment_type,parent,index,debug_info). in file <in-memory> [4316:1-4316:217]\n",
      "Starting work on TypeCheck_S_11N_5coref2go_9CommentDO(db_id,item) :-     AllData_S_11N_5coref2go_9CommentDO(db_id,item,_,_,_,_,_). in file <in-memory> [2623:1-2623:117]\n",
      "Starting work on DataConstraintHelper_f_21S_11N_5coref2go_4Node_7__all__(d,db,d) :-     TypeCheck_S_11N_5coref2go_6DeclDO(db,d),    AllData_DBIndex(db). in file <in-memory> [3331:1-3331:724]\n",
      "Starting work on DataConstraintHelper_f_21S_11N_5coref2go_4Node_7__all__(e,db,e) :-     TypeCheck_S_11N_5coref2go_6ExprDO(db,e),    AllData_DBIndex(db). in file <in-memory> [3331:1-3331:724]\n",
      "Starting work on DataConstraintHelper_f_21S_11N_5coref2go_4Node_7__all__(s,db,s) :-     TypeCheck_S_11N_5coref2go_6StmtDO(db,s),    AllData_DBIndex(db). in file <in-memory> [3331:1-3331:724]\n",
      "Starting work on DataConstraintHelper_f_21S_11N_5coref2go_4Node_7__all__(c,db,c) :-     TypeCheck_S_11N_5coref2go_14CommentGroupDO(db,c),    AllData_DBIndex(db). in file <in-memory> [3331:1-3331:724]\n",
      "Starting work on DataConstraintHelper_f_21S_11N_5coref2go_4Node_7__all__(c,db,c) :-     TypeCheck_S_11N_5coref2go_6FileDO(db,c),    AllData_DBIndex(db). in file <in-memory> [3331:1-3331:724]\n",
      "Starting work on DataConstraintHelper_f_21S_11N_5coref2go_4Node_7__all__(c,db,c) :-     TypeCheck_S_11N_5coref2go_9CommentDO(db,c),    AllData_DBIndex(db). in file <in-memory> [3331:1-3331:724]\n",
      "Starting work on DataConstraintHelper_f_21S_11N_5coref2go_4Node_7__all__(c,db,c) :-     TypeCheck_S_11N_5coref2go_12DocCommentDO(db,c),    AllData_DBIndex(db). in file <in-memory> [3331:1-3331:724]\n",
      "Starting work on DataConstraintHelper_f_21S_11N_5coref2go_4Node_7__all__(c,db,c) :-     TypeCheck_S_11N_5coref2go_8FieldsDO(db,c),    AllData_DBIndex(db). in file <in-memory> [3331:1-3331:724]\n",
      "Starting work on DataConstraintHelper_f_21S_11N_5coref2go_4Node_7__all__(c,db,c) :-     TypeCheck_S_11N_5coref2go_6SpecDO(db,c),    AllData_DBIndex(db). in file <in-memory> [3331:1-3331:724]\n",
      "Starting work on AllData_S_11N_5coref2go_4Node(db_id,id) :-     DataConstraintHelper_f_21S_11N_5coref2go_4Node_7__all__(_,db_id,id). in file <in-memory> [4446:1-4446:115]\n",
      "Starting work on DataConstraintHelper_f_21S_11N_5coref2go_4Expr_7__all__(e,db,e) :-     AllData_S_11N_5coref2go_4Node(db,e),    TypeCheck_S_11N_5coref2go_6ExprDO(db,e),    AllData_DBIndex(db). in file <in-memory> [3380:1-3380:248]\n",
      "Starting work on AllData_S_11N_5coref2go_4Expr(db_id,id) :-     DataConstraintHelper_f_21S_11N_5coref2go_4Expr_7__all__(_,db_id,id). in file <in-memory> [4426:1-4426:115]\n",
      "Starting work on f_21S_11N_5coref2go_4Expr_14isSelectorExpr(self) :-     f_21S_11N_5coref2go_4Expr_7getKind(kind,self),    kind = 11,    AllData_S_11N_5coref2go_4Expr(_,self). in file <in-memory> [3405:1-3405:169]\n",
      "Starting work on DataConstraintHelper_f_30S_11N_5coref2go_12SelectorExpr_7__all__(field_id,db,field_id) :-     AllData_S_11N_5coref2go_4Expr(db,field_id),    f_21S_11N_5coref2go_4Expr_14isSelectorExpr(field_id),    AllData_S_11N_5coref2go_4Expr(db,field_id),    AllData_DBIndex(db). in file <in-memory> [2525:1-2525:304]\n",
      "Starting work on AllData_S_11N_5coref2go_12SelectorExpr(db_id,id) :-     DataConstraintHelper_f_30S_11N_5coref2go_12SelectorExpr_7__all__(_,db_id,id). in file <in-memory> [4420:1-4420:133]\n",
      "Starting work on DataConstraintHelper_f_25S_11N_5coref2go_8Selector_7__all__(field_id,db,field_id) :-     AllData_S_11N_5coref2go_4Expr(db,field_id),    AllData_DBIndex(db). in file <in-memory> [2438:1-2438:201]\n",
      "Starting work on AllData_S_11N_5coref2go_8Selector(db_id,id) :-     DataConstraintHelper_f_25S_11N_5coref2go_8Selector_7__all__(_,db_id,id). in file <in-memory> [4430:1-4430:123]\n",
      "Starting work on f_21S_11N_5coref2go_4Expr_10isLandExpr(self) :-     f_21S_11N_5coref2go_4Expr_7getKind(kind,self),    kind = 34,    AllData_S_11N_5coref2go_4Expr(_,self). in file <in-memory> [3428:1-3428:165]\n",
      "Starting work on f_21S_11N_5coref2go_4Expr_9isLorExpr(self) :-     f_21S_11N_5coref2go_4Expr_7getKind(kind,self),    kind = 33,    AllData_S_11N_5coref2go_4Expr(_,self). in file <in-memory> [3427:1-3427:163]\n",
      "Starting work on f_21S_11N_5coref2go_4Expr_13isControlExpr(self) :-     f_21S_11N_5coref2go_4Expr_9isLorExpr(self),    AllData_S_11N_5coref2go_4Expr(_,self). in file <in-memory> [3388:1-3388:195]\n",
      "Starting work on f_21S_11N_5coref2go_4Expr_13isControlExpr(self) :-     f_21S_11N_5coref2go_4Expr_10isLandExpr(self),    AllData_S_11N_5coref2go_4Expr(_,self). in file <in-memory> [3388:1-3388:195]\n",
      "Starting work on f_21S_11N_5coref2go_4Expr_10isFloatLit(self) :-     f_21S_11N_5coref2go_4Expr_7getKind(kind,self),    kind = 4,    AllData_S_11N_5coref2go_4Expr(_,self). in file <in-memory> [3398:1-3398:164]\n",
      "Starting work on f_21S_11N_5coref2go_4Expr_11isStringLit(self) :-     f_21S_11N_5coref2go_4Expr_7getKind(kind,self),    kind = 7,    AllData_S_11N_5coref2go_4Expr(_,self). in file <in-memory> [3401:1-3401:165]\n",
      "Starting work on f_21S_11N_5coref2go_4Expr_8isIntLit(self) :-     f_21S_11N_5coref2go_4Expr_7getKind(kind,self),    kind = 3,    AllData_S_11N_5coref2go_4Expr(_,self). in file <in-memory> [3397:1-3397:161]\n",
      "Starting work on f_21S_11N_5coref2go_4Expr_9isCharLit(self) :-     f_21S_11N_5coref2go_4Expr_7getKind(kind,self),    kind = 6,    AllData_S_11N_5coref2go_4Expr(_,self). in file <in-memory> [3400:1-3400:162]\n",
      "Starting work on f_21S_11N_5coref2go_4Expr_9isImagLit(self) :-     f_21S_11N_5coref2go_4Expr_7getKind(kind,self),    kind = 5,    AllData_S_11N_5coref2go_4Expr(_,self). in file <in-memory> [3399:1-3399:162]\n",
      "Starting work on f_21S_11N_5coref2go_4Expr_14isBasicLitExpr(self) :-     f_21S_11N_5coref2go_4Expr_8isIntLit(self),    AllData_S_11N_5coref2go_4Expr(_,self). in file <in-memory> [3391:1-3391:330]\n",
      "Starting work on f_21S_11N_5coref2go_4Expr_14isBasicLitExpr(self) :-     f_21S_11N_5coref2go_4Expr_10isFloatLit(self),    AllData_S_11N_5coref2go_4Expr(_,self). in file <in-memory> [3391:1-3391:330]\n",
      "Starting work on f_21S_11N_5coref2go_4Expr_14isBasicLitExpr(self) :-     f_21S_11N_5coref2go_4Expr_9isImagLit(self),    AllData_S_11N_5coref2go_4Expr(_,self). in file <in-memory> [3391:1-3391:330]\n",
      "Starting work on f_21S_11N_5coref2go_4Expr_14isBasicLitExpr(self) :-     f_21S_11N_5coref2go_4Expr_9isCharLit(self),    AllData_S_11N_5coref2go_4Expr(_,self). in file <in-memory> [3391:1-3391:330]\n",
      "Starting work on f_21S_11N_5coref2go_4Expr_14isBasicLitExpr(self) :-     f_21S_11N_5coref2go_4Expr_11isStringLit(self),    AllData_S_11N_5coref2go_4Expr(_,self). in file <in-memory> [3391:1-3391:330]\n",
      "Starting work on f_21S_11N_5coref2go_4Expr_7isIdent(self) :-     f_21S_11N_5coref2go_4Expr_7getKind(kind,self),    kind = 1,    AllData_S_11N_5coref2go_4Expr(_,self). in file <in-memory> [3395:1-3395:160]\n",
      "Starting work on DataConstraintHelper_f_21S_11N_5coref2go_4Decl_7__all__(d,db,d) :-     AllData_S_11N_5coref2go_4Node(db,d),    TypeCheck_S_11N_5coref2go_6DeclDO(db,d),    AllData_DBIndex(db). in file <in-memory> [4136:1-4136:248]\n",
      "Starting work on AllData_S_11N_5coref2go_4Decl(db_id,id) :-     DataConstraintHelper_f_21S_11N_5coref2go_4Decl_7__all__(_,db_id,id). in file <in-memory> [4434:1-4434:115]\n",
      "Starting work on f_21S_11N_5coref2go_4Decl_10isFuncDecl(self) :-     f_21S_11N_5coref2go_4Decl_7getKind(kind,self),    kind = 5,    AllData_S_11N_5coref2go_4Decl(_,self). in file <in-memory> [4145:1-4145:164]\n",
      "Starting work on DataConstraintHelper_f_25S_11N_5coref2go_8Function_7__all__(field_id,db,field_id) :-     AllData_S_11N_5coref2go_4Node(db,field_id),    f_21S_11N_5coref2go_4Decl_10isFuncDecl(field_id),    AllData_S_11N_5coref2go_4Decl(db,field_id),    AllData_DBIndex(db). in file <in-memory> [2709:1-2709:295]\n",
      "Starting work on AllData_S_11N_5coref2go_8Function(db_id,id) :-     DataConstraintHelper_f_25S_11N_5coref2go_8Function_7__all__(_,db_id,id). in file <in-memory> [4437:1-4437:123]\n",
      "Starting work on DataConstraintHelper_f_21S_11N_5coref2go_4File_7__all__(f,db,f) :-     AllData_S_11N_5coref2go_4Node(db,f),    TypeCheck_S_11N_5coref2go_6FileDO(db,f),    AllData_DBIndex(db). in file <in-memory> [2818:1-2818:248]\n",
      "Starting work on AllData_S_11N_5coref2go_4File(db_id,id) :-     DataConstraintHelper_f_21S_11N_5coref2go_4File_7__all__(_,db_id,id). in file <in-memory> [4445:1-4445:115]\n",
      "Starting work on DataConstraintHelper_f_23S_11N_5coref2go_6GoFile_7__all__(f,db,f) :-     AllData_S_11N_5coref2go_4File(db,f),    f_21S_11N_5coref2go_4File_8isGoFile(f),    AllData_S_11N_5coref2go_4File(db,f),    AllData_DBIndex(db). in file <in-memory> [2674:1-2674:290]\n",
      "Starting work on DataConstraintHelper_f_23S_11N_5coref2go_6Fields_7__all__(field_id,db,field_id) :-     AllData_S_11N_5coref2go_4Node(db,field_id),    TypeCheck_S_11N_5coref2go_8FieldsDO(db,field_id),    AllData_DBIndex(db). in file <in-memory> [2640:1-2640:252]\n",
      "Starting work on AllData_S_11N_5coref2go_6Fields(db_id,id) :-     DataConstraintHelper_f_23S_11N_5coref2go_6Fields_7__all__(_,db_id,id). in file <in-memory> [4428:1-4428:119]\n",
      "Starting work on DataConstraintHelper_f_24S_11N_5coref2go_7Comment_7__all__(c,db,c) :-     AllData_S_11N_5coref2go_4Node(db,c),    TypeCheck_S_11N_5coref2go_9CommentDO(db,c),    AllData_DBIndex(db). in file <in-memory> [4104:1-4104:254]\n",
      "Starting work on AllData_S_11N_5coref2go_7Comment(db_id,id) :-     DataConstraintHelper_f_24S_11N_5coref2go_7Comment_7__all__(_,db_id,id). in file <in-memory> [4448:1-4448:121]\n",
      "Starting work on DataConstraintHelper_f_26S_11N_5coref2go_9Statement_7__all__(s,db,s) :-     AllData_S_11N_5coref2go_4Node(db,s),    TypeCheck_S_11N_5coref2go_6StmtDO(db,s),    AllData_DBIndex(db). in file <in-memory> [4223:1-4223:253]\n",
      "Starting work on AllData_S_11N_5coref2go_9Statement(db_id,id) :-     DataConstraintHelper_f_26S_11N_5coref2go_9Statement_7__all__(_,db_id,id). in file <in-memory> [4447:1-4447:125]\n",
      "Starting work on f_26S_11N_5coref2go_9Statement_12isCaseClause(self) :-     f_26S_11N_5coref2go_9Statement_7getKind(kind,self),    kind = 17,    AllData_S_11N_5coref2go_9Statement(_,self). in file <in-memory> [4246:1-4246:182]\n",
      "Starting work on f_26S_11N_5coref2go_9Statement_8isIfStmt(self) :-     f_26S_11N_5coref2go_9Statement_7getKind(kind,self),    kind = 16,    AllData_S_11N_5coref2go_9Statement(_,self). in file <in-memory> [4245:1-4245:177]\n",
      "Starting work on f_26S_11N_5coref2go_9Statement_9isForStmt(self) :-     f_26S_11N_5coref2go_9Statement_7getKind(kind,self),    kind = 22,    AllData_S_11N_5coref2go_9Statement(_,self). in file <in-memory> [4251:1-4251:178]\n",
      "Starting work on f_26S_11N_5coref2go_9Statement_13isControlStmt(self) :-     f_26S_11N_5coref2go_9Statement_8isIfStmt(self),    AllData_S_11N_5coref2go_9Statement(_,self). in file <in-memory> [4228:1-4228:265]\n",
      "Starting work on f_26S_11N_5coref2go_9Statement_13isControlStmt(self) :-     f_26S_11N_5coref2go_9Statement_9isForStmt(self),    AllData_S_11N_5coref2go_9Statement(_,self). in file <in-memory> [4228:1-4228:265]\n",
      "Starting work on f_26S_11N_5coref2go_9Statement_13isControlStmt(self) :-     f_26S_11N_5coref2go_9Statement_12isCaseClause(self),    AllData_S_11N_5coref2go_9Statement(_,self). in file <in-memory> [4228:1-4228:265]\n",
      "Starting work on f_26S_11N_5coref2go_9CommentDO_9getParent(__temp,self) :-     AllData_S_11N_5coref2go_9CommentDO(_,self,_,_,__temp,_,_),    TypeCheck_S_11N_5coref2go_9CommentDO(_,self). in file <in-memory> [4300:1-4300:184]\n",
      "Starting work on f_21S_11N_5coref2go_4Node_13getParentNode(parent,e) :-     f_23S_11N_5coref2go_6DeclDO_11getParentId(parent,e),    TypeCheck_S_11N_5coref2go_6DeclDO(_,e),    AllData_S_11N_5coref2go_4Node(_,parent). in file <in-memory> [3336:1-3336:1224]\n",
      "Starting work on f_21S_11N_5coref2go_4Node_13getParentNode(parent,var) :-     f_23S_11N_5coref2go_6ExprDO_11getParentId(parent,var),    TypeCheck_S_11N_5coref2go_6ExprDO(_,var),    AllData_S_11N_5coref2go_4Node(_,parent). in file <in-memory> [3336:1-3336:1224]\n",
      "Starting work on f_21S_11N_5coref2go_4Node_13getParentNode(parent,m) :-     f_23S_11N_5coref2go_6StmtDO_11getParentId(parent,m),    TypeCheck_S_11N_5coref2go_6StmtDO(_,m),    AllData_S_11N_5coref2go_4Node(_,parent). in file <in-memory> [3336:1-3336:1224]\n",
      "Starting work on f_21S_11N_5coref2go_4Node_13getParentNode(parent,c) :-     f_32S_11N_5coref2go_14CommentGroupDO_9getParent(parent,c),    TypeCheck_S_11N_5coref2go_14CommentGroupDO(_,c),    AllData_S_11N_5coref2go_4Node(_,parent). in file <in-memory> [3336:1-3336:1224]\n",
      "Starting work on f_21S_11N_5coref2go_4Node_13getParentNode(parent,f) :-     parent = -1,    TypeCheck_S_11N_5coref2go_6FileDO(_,f),    AllData_S_11N_5coref2go_4Node(_,parent). in file <in-memory> [3336:1-3336:1224]\n",
      "Starting work on f_21S_11N_5coref2go_4Node_13getParentNode(parent,c) :-     f_26S_11N_5coref2go_9CommentDO_9getParent(parent,c),    TypeCheck_S_11N_5coref2go_9CommentDO(_,c),    AllData_S_11N_5coref2go_4Node(_,parent). in file <in-memory> [3336:1-3336:1224]\n",
      "Starting work on f_21S_11N_5coref2go_4Node_13getParentNode(cg,c) :-     f_30S_11N_5coref2go_12DocCommentDO_15getAssociateObj(cg,c),    TypeCheck_S_11N_5coref2go_14CommentGroupDO(_,cg),    TypeCheck_S_11N_5coref2go_12DocCommentDO(_,c),    AllData_S_11N_5coref2go_4Node(_,cg). in file <in-memory> [3336:1-3336:1224]\n",
      "Starting work on f_21S_11N_5coref2go_4Node_13getParentNode(parent,c) :-     f_25S_11N_5coref2go_8FieldsDO_11getParentId(parent,c),    TypeCheck_S_11N_5coref2go_8FieldsDO(_,c),    AllData_S_11N_5coref2go_4Node(_,parent). in file <in-memory> [3336:1-3336:1224]\n",
      "Starting work on f_21S_11N_5coref2go_4Node_13getParentNode(parent,c) :-     f_23S_11N_5coref2go_6SpecDO_11getParentId(parent,c),    TypeCheck_S_11N_5coref2go_6SpecDO(_,c),    AllData_S_11N_5coref2go_4Node(_,parent). in file <in-memory> [3336:1-3336:1224]\n",
      "Starting work on f_26S_11N_5coref2go_9Statement_18getBelongsFunction(f,self) :-     f_21S_11N_5coref2go_4Node_13getParentNode(f,self),    AllData_S_11N_5coref2go_8Function(_,f). in file <in-memory> [4226:1-4226:356]\n",
      "Starting work on f_26S_11N_5coref2go_9Statement_18getBelongsFunction(f,self) :-     f_21S_11N_5coref2go_4Node_13getParentNode(s,self),    f_26S_11N_5coref2go_9Statement_18getBelongsFunction(f,s),    AllData_S_11N_5coref2go_9Statement(_,s),    AllData_S_11N_5coref2go_8Function(_,f). in file <in-memory> [4226:1-4226:356]\n",
      ".......................\n",
      "Starting work on __agg_subclause11(func,s) :-     f_26S_11N_5coref2go_9Statement_13isControlStmt(s),    f_26S_11N_5coref2go_9Statement_18getBelongsFunction(func,s),    AllData_S_11N_5coref2go_9Statement(_,s). in file  [0:0-0:0]\n",
      "Starting work on f_21S_11N_5coref2go_4Node_18getBelongsFunction(f,self) :-     f_21S_11N_5coref2go_4Node_13getParentNode(f,self),    AllData_S_11N_5coref2go_8Function(_,f). in file <in-memory> [3334:1-3334:331]\n",
      "Starting work on f_21S_11N_5coref2go_4Node_18getBelongsFunction(f,self) :-     f_21S_11N_5coref2go_4Node_13getParentNode(n,self),    f_21S_11N_5coref2go_4Node_18getBelongsFunction(f,n),    AllData_S_11N_5coref2go_4Node(_,n),    AllData_S_11N_5coref2go_8Function(_,f). in file <in-memory> [3334:1-3334:331]\n",
      "...............................\n",
      "Starting work on __agg_subclause12(e,func) :-     f_21S_11N_5coref2go_4Expr_13isControlExpr(e),    f_21S_11N_5coref2go_4Node_18getBelongsFunction(func,e),    AllData_S_11N_5coref2go_4Expr(_,e). in file  [0:0-0:0]\n",
      "Starting work on f_25S_11N_5coref2go_8Function_23getCyclomaticComplexity(((@generator_0+@generator_1)+1),self) :-     AllData_S_11N_5coref2go_8Function(_,self),    @generator_0 = count : { __agg_subclause11(self,+underscore_249) },    @generator_1 = count : { __agg_subclause12(+underscore_250,self) }. in file <in-memory> [2717:1-2717:554]\n",
      "Starting work on f_21S_11N_5coref2go_4Node_14getBelongsFile(self,self) :-     TypeCheck_S_11N_5coref2go_6FileDO(_,self). in file <in-memory> [3332:1-3332:336]\n",
      "Starting work on f_21S_11N_5coref2go_4Node_14getBelongsFile(f,self) :-     f_21S_11N_5coref2go_4Node_13getParentNode(f,self),    TypeCheck_S_11N_5coref2go_6FileDO(_,f). in file <in-memory> [3332:1-3332:336]\n",
      "Starting work on f_21S_11N_5coref2go_4Node_14getBelongsFile(f,self) :-     f_21S_11N_5coref2go_4Node_13getParentNode(d,self),    f_21S_11N_5coref2go_4Node_14getBelongsFile(f,d),    AllData_S_11N_5coref2go_4Node(_,d),    TypeCheck_S_11N_5coref2go_6FileDO(_,f). in file <in-memory> [3332:1-3332:336]\n",
      "................................\n",
      "Starting work on f_30S_11N_5coref2go_12SelectorExpr_11getSelector(e,self) :-     f_21S_11N_5coref2go_4Node_13getParentNode(self,e),    f_21S_11N_5coref2go_4Expr_6getIdx(1,e),    AllData_S_11N_5coref2go_8Selector(_,e),    AllData_S_11N_5coref2go_4Expr(_,e). in file <in-memory> [2527:1-2527:276]\n",
      "Starting work on f_30S_11N_5coref2go_12SelectorExpr_7getBase(e,self) :-     f_21S_11N_5coref2go_4Node_13getParentNode(self,e),    f_21S_11N_5coref2go_4Expr_6getIdx(0,e),    AllData_S_11N_5coref2go_4Node(_,e),    AllData_S_11N_5coref2go_4Expr(_,e). in file <in-memory> [2526:1-2526:267]\n",
      "Starting work on f_26S_11N_5coref2go_9CommentDO_12getDebugInfo(__temp,self) :-     AllData_S_11N_5coref2go_9CommentDO(_,self,_,_,_,_,__temp),    TypeCheck_S_11N_5coref2go_9CommentDO(_,self). in file <in-memory> [4302:1-4302:193]\n",
      "Starting work on AllData_S_11N_5coref2go_13HasLocationDO([1,1],oid,location_obj,location_id) :-     Load_D_11N_5coref2go_4GoDB_Time1_S_11N_5coref2go_13HasLocationDO(oid,location_obj,location_id). in file <in-memory> [4339:1-4339:181]\n",
      "Starting work on TypeCheck_S_11N_5coref2go_13HasLocationDO(db_id,item) :-     AllData_S_11N_5coref2go_13HasLocationDO(db_id,item,_,_). in file <in-memory> [2634:1-2634:118]\n",
      "Starting work on f_31S_11N_5coref2go_13HasLocationDO_13getLocationId(__temp,self) :-     AllData_S_11N_5coref2go_13HasLocationDO(_,self,_,__temp),    TypeCheck_S_11N_5coref2go_13HasLocationDO(_,self). in file <in-memory> [2972:1-2972:210]\n",
      "Starting work on f_31S_11N_5coref2go_13HasLocationDO_14getLocationObj(__temp,self) :-     AllData_S_11N_5coref2go_13HasLocationDO(_,self,__temp,_),    TypeCheck_S_11N_5coref2go_13HasLocationDO(_,self). in file <in-memory> [2971:1-2971:212]\n",
      "Starting work on f_21S_11N_5coref2go_4Node_11getLocation(loc,self) :-     f_31S_11N_5coref2go_13HasLocationDO_14getLocationObj(self,has),    f_31S_11N_5coref2go_13HasLocationDO_13getLocationId(loc,has),    AllData_S_11N_5coref2go_8Location(_,loc),    TypeCheck_S_11N_5coref2go_13HasLocationDO(_,has). in file <in-memory> [3340:1-3340:307]\n",
      "Starting work on AllData_S_11N_5coref2go_6TypeDO([1,1],oid,kind,format_string,raw_string) :-     Load_D_11N_5coref2go_4GoDB_Time1_S_11N_5coref2go_6TypeDO(oid,kind,format_string,raw_string). in file <in-memory> [4360:1-4360:177]\n",
      "Starting work on TypeCheck_S_11N_5coref2go_6TypeDO(db_id,item) :-     AllData_S_11N_5coref2go_6TypeDO(db_id,item,_,_,_). in file <in-memory> [4091:1-4091:105]\n",
      "Starting work on DataConstraintHelper_f_21S_11N_5coref2go_4Type_7__all__(t,db,t) :-     TypeCheck_S_11N_5coref2go_6TypeDO(db,t),    TypeCheck_S_11N_5coref2go_6TypeDO(db,t),    AllData_DBIndex(db). in file <in-memory> [3466:1-3466:250]\n",
      "Starting work on AllData_S_11N_5coref2go_4Type(db_id,id) :-     DataConstraintHelper_f_21S_11N_5coref2go_4Type_7__all__(_,db_id,id). in file <in-memory> [4431:1-4431:115]\n",
      "Starting work on f_23S_11N_5coref2go_6TypeDO_15getFormatString(__temp,self) :-     AllData_S_11N_5coref2go_6TypeDO(_,self,_,__temp,_),    TypeCheck_S_11N_5coref2go_6TypeDO(_,self). in file <in-memory> [3527:1-3527:190]\n",
      "Starting work on f_21S_11N_5coref2go_4Type_15getFormatString(s,self) :-     f_23S_11N_5coref2go_6TypeDO_15getFormatString(s,self),    TypeCheck_S_11N_5coref2go_6TypeDO(_,self). in file <in-memory> [3469:1-3469:189]\n",
      "Starting work on AllData_S_11N_5coref2go_8TypeOfDO([1,1],oid,expr,tp) :-     Load_D_11N_5coref2go_4GoDB_Time1_S_11N_5coref2go_8TypeOfDO(oid,expr,tp). in file <in-memory> [4363:1-4363:135]\n",
      "Starting work on TypeCheck_S_11N_5coref2go_8TypeOfDO(db_id,item) :-     AllData_S_11N_5coref2go_8TypeOfDO(db_id,item,_,_). in file <in-memory> [2921:1-2921:106]\n",
      "Starting work on f_25S_11N_5coref2go_8TypeOfDO_5getTp(__temp,self) :-     AllData_S_11N_5coref2go_8TypeOfDO(_,self,_,__temp),    TypeCheck_S_11N_5coref2go_8TypeOfDO(_,self). in file <in-memory> [3717:1-3717:173]\n",
      "Starting work on f_25S_11N_5coref2go_8TypeOfDO_7getExpr(__temp,self) :-     AllData_S_11N_5coref2go_8TypeOfDO(_,self,__temp,_),    TypeCheck_S_11N_5coref2go_8TypeOfDO(_,self). in file <in-memory> [3716:1-3716:177]\n",
      "Starting work on f_21S_11N_5coref2go_4Expr_15getExprTypeName(r,self) :-     f_25S_11N_5coref2go_8TypeOfDO_7getExpr(self,to),    f_25S_11N_5coref2go_8TypeOfDO_5getTp(t,to),    f_21S_11N_5coref2go_4Type_15getFormatString(r,t),    TypeCheck_S_11N_5coref2go_8TypeOfDO(_,to),    AllData_S_11N_5coref2go_4Type(_,t). in file <in-memory> [3392:1-3392:316]\n",
      "Starting work on f_23S_11N_5coref2go_6Fields_12getFieldType(s,self) :-     f_21S_11N_5coref2go_4Node_13getParentNode(self,e),    f_21S_11N_5coref2go_4Expr_6getIdx(idx,e),    idx = 0,    f_21S_11N_5coref2go_4Expr_15getExprTypeName(s,e),    AllData_S_11N_5coref2go_4Expr(_,e). in file <in-memory> [2650:1-2650:282]\n",
      "Starting work on __agg_subclause10(fd,fd,s) :-     f_23S_11N_5coref2go_6Fields_12getFieldType(s,fd),    AllData_S_11N_5coref2go_6Fields(_,fd). in file  [0:0-0:0]\n",
      "Starting work on __agg_subclause4(fd,fd,s) :-     f_23S_11N_5coref2go_6Fields_12getFieldType(s,fd),    AllData_S_11N_5coref2go_6Fields(_,fd). in file  [0:0-0:0]\n",
      "Starting work on __agg_subclause6(fd,fd,s) :-     f_23S_11N_5coref2go_6Fields_12getFieldType(s,fd),    AllData_S_11N_5coref2go_6Fields(_,fd). in file  [0:0-0:0]\n",
      "Starting work on __agg_subclause8(fd,fd,s) :-     f_23S_11N_5coref2go_6Fields_12getFieldType(s,fd),    AllData_S_11N_5coref2go_6Fields(_,fd). in file  [0:0-0:0]\n",
      "Starting work on AllData_S_11N_5coref2go_9LiteralDO([1,1],oid,expr,value,raw) :-     Load_D_11N_5coref2go_4GoDB_Time1_S_11N_5coref2go_9LiteralDO(oid,expr,value,raw). in file <in-memory> [4341:1-4341:153]\n",
      "Starting work on TypeCheck_S_11N_5coref2go_9LiteralDO(db_id,item) :-     AllData_S_11N_5coref2go_9LiteralDO(db_id,item,_,_,_). in file <in-memory> [4049:1-4049:111]\n",
      "Starting work on f_26S_11N_5coref2go_9LiteralDO_7getExpr(__temp,self) :-     AllData_S_11N_5coref2go_9LiteralDO(_,self,__temp,_,_),    TypeCheck_S_11N_5coref2go_9LiteralDO(_,self). in file <in-memory> [3289:1-3289:180]\n",
      "Starting work on f_26S_11N_5coref2go_9LiteralDO_8getValue(__temp,self) :-     AllData_S_11N_5coref2go_9LiteralDO(_,self,_,__temp,_),    TypeCheck_S_11N_5coref2go_9LiteralDO(_,self). in file <in-memory> [3290:1-3290:182]\n",
      "Starting work on f_23S_11N_5coref2go_6Fields_12getFieldName(s,f) :-     f_21S_11N_5coref2go_4Node_13getParentNode(f,e),    f_21S_11N_5coref2go_4Expr_6getIdx(idx,e),    idx > 0,    f_26S_11N_5coref2go_9LiteralDO_7getExpr(e,l),    f_26S_11N_5coref2go_9LiteralDO_8getValue(s,l),    AllData_S_11N_5coref2go_4Expr(_,e),    TypeCheck_S_11N_5coref2go_9LiteralDO(_,l),    AllData_S_11N_5coref2go_6Fields(_,f). in file <in-memory> [2649:1-2649:441]\n",
      "Starting work on __agg_subclause3(fd,fd,s0) :-     f_23S_11N_5coref2go_6Fields_12getFieldName(s0,fd),    AllData_S_11N_5coref2go_6Fields(_,fd). in file  [0:0-0:0]\n",
      "Starting work on __agg_subclause5(fd,fd,s0) :-     f_23S_11N_5coref2go_6Fields_12getFieldName(s0,fd),    AllData_S_11N_5coref2go_6Fields(_,fd). in file  [0:0-0:0]\n",
      "Starting work on __agg_subclause7(fd,fd,s0) :-     f_23S_11N_5coref2go_6Fields_12getFieldName(s0,fd),    AllData_S_11N_5coref2go_6Fields(_,fd). in file  [0:0-0:0]\n",
      "Starting work on __agg_subclause9(fd,fd,s0) :-     f_23S_11N_5coref2go_6Fields_12getFieldName(s0,fd),    AllData_S_11N_5coref2go_6Fields(_,fd). in file  [0:0-0:0]\n",
      "Starting work on f_21S_11N_5coref2go_4Node_5print(text,s) :-     f_23S_11N_5coref2go_6StmtDO_12getDebugInfo(text,s),    TypeCheck_S_11N_5coref2go_6StmtDO(_,s). in file <in-memory> [3349:1-3349:3052]\n",
      "Starting work on f_21S_11N_5coref2go_4Node_5print(text,e) :-     f_21S_11N_5coref2go_4Expr_7isIdent(e),    f_26S_11N_5coref2go_9LiteralDO_7getExpr(e,l),    f_26S_11N_5coref2go_9LiteralDO_8getValue(text,l),    TypeCheck_S_11N_5coref2go_9LiteralDO(_,l),    AllData_S_11N_5coref2go_4Expr(_,e). in file <in-memory> [3349:1-3349:3052]\n",
      "Starting work on f_21S_11N_5coref2go_4Node_5print(text,e) :-     !f_21S_11N_5coref2go_4Expr_7isIdent(e),    f_21S_11N_5coref2go_4Expr_14isBasicLitExpr(e),    f_26S_11N_5coref2go_9LiteralDO_7getExpr(e,l),    f_26S_11N_5coref2go_9LiteralDO_8getValue(text,l),    TypeCheck_S_11N_5coref2go_9LiteralDO(_,l),    AllData_S_11N_5coref2go_4Expr(_,e). in file <in-memory> [3349:1-3349:3052]\n",
      "Starting work on f_21S_11N_5coref2go_4Node_5print(text,e) :-     !f_21S_11N_5coref2go_4Expr_7isIdent(e),    !f_21S_11N_5coref2go_4Expr_14isBasicLitExpr(e),    !f_21S_11N_5coref2go_4Expr_14isSelectorExpr(e),    f_21S_11N_5coref2go_4Expr_12getDebugInfo(text,e),    AllData_S_11N_5coref2go_4Expr(_,e). in file <in-memory> [3349:1-3349:3052]\n",
      "Starting work on f_21S_11N_5coref2go_4Node_5print(text,d) :-     f_23S_11N_5coref2go_6ExprDO_11getParentId(d,ex),    f_26S_11N_5coref2go_9LiteralDO_7getExpr(ex,l),    f_23S_11N_5coref2go_6ExprDO_7getKind(kind,ex),    kind = 1,    f_26S_11N_5coref2go_9LiteralDO_8getValue(text,l),    TypeCheck_S_11N_5coref2go_6ExprDO(_,ex),    TypeCheck_S_11N_5coref2go_9LiteralDO(_,l),    TypeCheck_S_11N_5coref2go_6DeclDO(_,d). in file <in-memory> [3349:1-3349:3052]\n",
      "Starting work on f_21S_11N_5coref2go_4Node_5print(\"@CommentGroup\",e) :-     TypeCheck_S_11N_5coref2go_14CommentGroupDO(_,e). in file <in-memory> [3349:1-3349:3052]\n",
      "Starting work on f_21S_11N_5coref2go_4Node_5print(text,e) :-     f_23S_11N_5coref2go_6FileDO_7getName(text,e),    TypeCheck_S_11N_5coref2go_6FileDO(_,e). in file <in-memory> [3349:1-3349:3052]\n",
      "Starting work on f_21S_11N_5coref2go_4Node_5print(text,c) :-     f_26S_11N_5coref2go_9CommentDO_12getDebugInfo(text,c),    TypeCheck_S_11N_5coref2go_9CommentDO(_,c). in file <in-memory> [3349:1-3349:3052]\n",
      "Starting work on f_21S_11N_5coref2go_4Node_5print(\"@DocComment\",c) :-     TypeCheck_S_11N_5coref2go_12DocCommentDO(_,c). in file <in-memory> [3349:1-3349:3052]\n",
      "Starting work on f_21S_11N_5coref2go_4Node_5print(cat(cat(cat(t1,\"[\"),t2),\"]\"),f) :-     @generator_0 > 0,    f_23S_11N_5coref2go_6Fields_12getFieldName(t1,f),    @generator_1 > 0,    f_23S_11N_5coref2go_6Fields_12getFieldType(t2,f),    AllData_S_11N_5coref2go_6Fields(_,f),    TypeCheck_S_11N_5coref2go_8FieldsDO(_,f),    @generator_0 = count : { __agg_subclause3(f,+underscore_145,+underscore_146) },    @generator_1 = count : { __agg_subclause4(f,+underscore_147,+underscore_148) }. in file <in-memory> [3349:1-3349:3052]\n",
      "Starting work on f_21S_11N_5coref2go_4Node_5print(t1,f) :-     @generator_0 > 0,    f_23S_11N_5coref2go_6Fields_12getFieldName(t1,f),    @generator_1 <= 0,    AllData_S_11N_5coref2go_6Fields(_,f),    TypeCheck_S_11N_5coref2go_8FieldsDO(_,f),    @generator_0 = count : { __agg_subclause5(f,+underscore_151,+underscore_152) },    @generator_1 = count : { __agg_subclause6(f,+underscore_153,+underscore_154) }. in file <in-memory> [3349:1-3349:3052]\n",
      "Starting work on f_21S_11N_5coref2go_4Node_5print(cat(cat(\"[\",t2),\"]\"),f) :-     @generator_0 <= 0,    @generator_1 > 0,    f_23S_11N_5coref2go_6Fields_12getFieldType(t2,f),    AllData_S_11N_5coref2go_6Fields(_,f),    TypeCheck_S_11N_5coref2go_8FieldsDO(_,f),    @generator_0 = count : { __agg_subclause7(f,+underscore_157,+underscore_158) },    @generator_1 = count : { __agg_subclause8(f,+underscore_159,+underscore_160) }. in file <in-memory> [3349:1-3349:3052]\n",
      "Starting work on f_21S_11N_5coref2go_4Node_5print(\"\",f) :-     @generator_0 <= 0,    @generator_1 <= 0,    AllData_S_11N_5coref2go_6Fields(_,f),    TypeCheck_S_11N_5coref2go_8FieldsDO(_,f),    @generator_0 = count : { __agg_subclause9(f,+underscore_163,+underscore_164) },    @generator_1 = count : { __agg_subclause10(f,+underscore_165,+underscore_166) }. in file <in-memory> [3349:1-3349:3052]\n",
      "Starting work on f_21S_11N_5coref2go_4Node_5print(text,c) :-     f_23S_11N_5coref2go_6ExprDO_11getParentId(c,e),    f_26S_11N_5coref2go_9LiteralDO_7getExpr(e,l),    f_26S_11N_5coref2go_9LiteralDO_8getValue(text,l),    TypeCheck_S_11N_5coref2go_6ExprDO(_,e),    TypeCheck_S_11N_5coref2go_9LiteralDO(_,l),    TypeCheck_S_11N_5coref2go_6SpecDO(_,c). in file <in-memory> [3349:1-3349:3052]\n",
      "Starting work on f_21S_11N_5coref2go_4Node_5print(cat(cat(s1,\".\"),s2),e) :-     !f_21S_11N_5coref2go_4Expr_7isIdent(e),    !f_21S_11N_5coref2go_4Expr_14isBasicLitExpr(e),    f_21S_11N_5coref2go_4Expr_14isSelectorExpr(e),    f_30S_11N_5coref2go_12SelectorExpr_11getSelector(__temp_dgf_7,e),    f_21S_11N_5coref2go_4Node_5print(s2,__temp_dgf_7),    f_30S_11N_5coref2go_12SelectorExpr_7getBase(__temp_dgf_8,e),    f_21S_11N_5coref2go_4Node_5print(s1,__temp_dgf_8),    AllData_S_11N_5coref2go_12SelectorExpr(_,e),    AllData_S_11N_5coref2go_4Expr(_,e). in file <in-memory> [3349:1-3349:3052]\n",
      ".........\n",
      "Starting work on f_25S_11N_5coref2go_8Function_7getName(func,self) :-     f_21S_11N_5coref2go_4Node_13getParentNode(self,e),    f_26S_11N_5coref2go_9LiteralDO_7getExpr(e,l),    f_21S_11N_5coref2go_4Expr_7isIdent(e),    f_26S_11N_5coref2go_9LiteralDO_8getValue(func,l),    AllData_S_11N_5coref2go_4Expr(_,e),    TypeCheck_S_11N_5coref2go_9LiteralDO(_,l). in file <in-memory> [2715:1-2715:359]\n",
      "Starting work on f_0_10default_db([1,1]). in file <in-memory> [2366:1-2366:64]\n",
      "Starting work on f_11N_5coref2go_8KEYWORDS(\"PLEASE DO NOT MODIFY THIS FILE MANUALLY\"). in file <in-memory> [3350:1-3350:123]\n",
      "Starting work on f_11N_5coref2go_8KEYWORDS(\"DO NOT EDIT\"). in file <in-memory> [3350:1-3350:123]\n",
      "Starting work on f_11N_5coref2go_8KEYWORDS(\"Code generated by\"). in file <in-memory> [3350:1-3350:123]\n",
      "Starting work on f_23S_11N_5coref2go_6GoFile_16filterByKeyWords(self) :-     f_21S_11N_5coref2go_4Node_5print(n,c),    f_11N_5coref2go_8KEYWORDS(k),    contains(k, n),    f_21S_11N_5coref2go_4Node_14getBelongsFile(self,c),    AllData_S_11N_5coref2go_7Comment(_,c). in file <in-memory> [2675:1-2675:253]\n",
      "Starting work on f_11N_5coref2go_11FOLDERNAMES(\"autogenerated/\"). in file <in-memory> [4054:1-4054:60]\n",
      "Starting work on f_23S_11N_5coref2go_6GoFile_19filterByFolderNames(self) :-     f_21S_11N_5coref2go_4File_7getName(n,self),    f_11N_5coref2go_11FOLDERNAMES(m),    contains(m, n). in file <in-memory> [2676:1-2676:162]\n",
      "Starting work on f_23S_11N_5coref2go_6GoFile_20isAutoGenereatedFile(self) :-     f_23S_11N_5coref2go_6GoFile_19filterByFolderNames(self). in file <in-memory> [2677:1-2677:176]\n",
      "Starting work on f_23S_11N_5coref2go_6GoFile_20isAutoGenereatedFile(self) :-     f_23S_11N_5coref2go_6GoFile_16filterByKeyWords(self). in file <in-memory> [2677:1-2677:176]\n",
      "Starting work on f_0_3out(__temp_3,__temp_4,__temp_5,__temp_7,__temp_9) :-     !f_23S_11N_5coref2go_6GoFile_20isAutoGenereatedFile(__temp_13),    f_21S_11N_5coref2go_4Node_14getBelongsFile(__temp_13,__temp_11),    f_21S_11N_5coref2go_4File_7getName(__temp_3,__temp_13),    f_25S_11N_5coref2go_8Function_7getName(__temp_4,__temp_11),    f_25S_11N_5coref2go_8Function_23getCyclomaticComplexity(__temp_5,__temp_11),    f_21S_11N_5coref2go_4Node_11getLocation(__temp_6,__temp_11),    f_28S_11N_5coref2go_10LocationDO_18getStartLineNumber(__temp_7,__temp_6),    f_21S_11N_5coref2go_4Node_11getLocation(__temp_8,__temp_11),    f_28S_11N_5coref2go_10LocationDO_16getEndLineNumber(__temp_9,__temp_8),    f_0_10default_db(__temp_10),    DataConstraintHelper_f_25S_11N_5coref2go_8Function_7__all__(__temp_11,__temp_10,_),    f_0_10default_db(__temp_12),    DataConstraintHelper_f_23S_11N_5coref2go_6GoFile_7__all__(__temp_13,__temp_12,_). in file <in-memory> [3242:1-3242:1058]\n",
      "Starting work on out(name,func,cmplx,sl,el) :-     f_0_3out(name,func,cmplx,sl,el). in file <in-memory> [4454:1-4454:71]\n",
      "Total time: 5.90944sec\n",
      "2023-11-23 16:37:59,725 INFO: Task /private/var/folders/8r/_7k9xlsn01d967dg0p74wwpc0000gp/T/godel-jupyter-hz9fci6t/query.gdl is success, result is NOT-EMPTY, execution time is  6.74s.\n",
      "2023-11-23 16:37:59,725 INFO: run success\n",
      "\n",
      "Total results: 941\n"
     ]
    },
    {
     "data": {
      "text/html": [
       "<div>\n",
       "<style scoped>\n",
       "    .dataframe tbody tr th:only-of-type {\n",
       "        vertical-align: middle;\n",
       "    }\n",
       "\n",
       "    .dataframe tbody tr th {\n",
       "        vertical-align: top;\n",
       "    }\n",
       "\n",
       "    .dataframe thead th {\n",
       "        text-align: right;\n",
       "    }\n",
       "</style>\n",
       "<table border=\"1\" class=\"dataframe\">\n",
       "  <thead>\n",
       "    <tr style=\"text-align: right;\">\n",
       "      <th></th>\n",
       "      <th>name</th>\n",
       "      <th>func</th>\n",
       "      <th>cmplx</th>\n",
       "      <th>sl</th>\n",
       "      <th>el</th>\n",
       "    </tr>\n",
       "  </thead>\n",
       "  <tbody>\n",
       "    <tr>\n",
       "      <th>0</th>\n",
       "      <td>callbacks.go</td>\n",
       "      <td>Delete</td>\n",
       "      <td>1</td>\n",
       "      <td>63</td>\n",
       "      <td>65</td>\n",
       "    </tr>\n",
       "    <tr>\n",
       "      <th>1</th>\n",
       "      <td>callbacks.go</td>\n",
       "      <td>Query</td>\n",
       "      <td>1</td>\n",
       "      <td>55</td>\n",
       "      <td>57</td>\n",
       "    </tr>\n",
       "    <tr>\n",
       "      <th>2</th>\n",
       "      <td>callbacks.go</td>\n",
       "      <td>Update</td>\n",
       "      <td>1</td>\n",
       "      <td>59</td>\n",
       "      <td>61</td>\n",
       "    </tr>\n",
       "    <tr>\n",
       "      <th>3</th>\n",
       "      <td>callbacks.go</td>\n",
       "      <td>Get</td>\n",
       "      <td>4</td>\n",
       "      <td>155</td>\n",
       "      <td>162</td>\n",
       "    </tr>\n",
       "    <tr>\n",
       "      <th>4</th>\n",
       "      <td>callbacks.go</td>\n",
       "      <td>Create</td>\n",
       "      <td>1</td>\n",
       "      <td>51</td>\n",
       "      <td>53</td>\n",
       "    </tr>\n",
       "    <tr>\n",
       "      <th>...</th>\n",
       "      <td>...</td>\n",
       "      <td>...</td>\n",
       "      <td>...</td>\n",
       "      <td>...</td>\n",
       "      <td>...</td>\n",
       "    </tr>\n",
       "    <tr>\n",
       "      <th>936</th>\n",
       "      <td>tests/upsert_test.go</td>\n",
       "      <td>TestUpsertWithSave</td>\n",
       "      <td>9</td>\n",
       "      <td>138</td>\n",
       "      <td>198</td>\n",
       "    </tr>\n",
       "    <tr>\n",
       "      <th>937</th>\n",
       "      <td>tests/upsert_test.go</td>\n",
       "      <td>TestFindOrInitialize</td>\n",
       "      <td>25</td>\n",
       "      <td>200</td>\n",
       "      <td>245</td>\n",
       "    </tr>\n",
       "    <tr>\n",
       "      <th>938</th>\n",
       "      <td>tests/upsert_test.go</td>\n",
       "      <td>TestFindOrCreate</td>\n",
       "      <td>30</td>\n",
       "      <td>247</td>\n",
       "      <td>311</td>\n",
       "    </tr>\n",
       "    <tr>\n",
       "      <th>939</th>\n",
       "      <td>tests/upsert_test.go</td>\n",
       "      <td>TestUpdateWithMissWhere</td>\n",
       "      <td>3</td>\n",
       "      <td>313</td>\n",
       "      <td>328</td>\n",
       "    </tr>\n",
       "    <tr>\n",
       "      <th>940</th>\n",
       "      <td>tests/update_many2many_test.go</td>\n",
       "      <td>TestUpdateMany2ManyAssociations</td>\n",
       "      <td>5</td>\n",
       "      <td>10</td>\n",
       "      <td>54</td>\n",
       "    </tr>\n",
       "  </tbody>\n",
       "</table>\n",
       "</div>"
      ],
      "text/plain": [
       "<IPython.core.display.HTML object>"
      ]
     },
     "metadata": {},
     "output_type": "display_data"
    }
   ],
   "source": [
    "%db ~/work/opensource/db/gorm\n",
    "// script\n",
    "use coref::go::*\n",
    "\n",
    "fn default_db() -> GoDB {\n",
    "    return GoDB::load(\"coref_go_src.db\")\n",
    "}\n",
    "\n",
    "/**\n",
    " * @param name: 文件名\n",
    " * @param func: 函数名\n",
    " * @param cmplx: 函数圈复杂度\n",
    " * @param sl,el,sc,ec: 函数位置信息，依次为函数起始行，结束行\n",
    " */\n",
    "fn out(name: string, func: string, cmplx: int, sl: int, el: int) -> bool {\n",
    "    for(f in GoFile(default_db()), function in Function(default_db())) {\n",
    "        if ((!f.isAutoGenereatedFile()) &&\n",
    "            f.key_eq(function.getBelongsFile()) &&\n",
    "            name = f.getName() &&\n",
    "            func = function.getName() &&\n",
    "            cmplx = function.getCyclomaticComplexity() &&\n",
    "            sl = function.getLocation().getStartLineNumber() &&\n",
    "            el = function.getLocation().getEndLineNumber()) {\n",
    "            return true\n",
    "        }\n",
    "    }\n",
    "}\n",
    "\n",
    "fn main() {\n",
    "    output(out())\n",
    "}"
   ]
  },
  {
   "cell_type": "markdown",
   "metadata": {},
   "source": [
    "保存上一次运行的 query 结果保存到一个JSON文件"
   ]
  },
  {
   "cell_type": "code",
   "execution_count": null,
   "metadata": {},
   "outputs": [],
   "source": [
    "%%save_to ~/work/opensource/out/query.json"
   ]
  },
  {
   "cell_type": "markdown",
   "metadata": {
    "collapsed": false
   },
   "source": [
    "STEP 3: 好了，你可以针对分析生成的结果，进行进一步的代码分析了，比如你可以结合pandas库，使用刚刚生成的 query.json 实现最大函数复杂度的排序查询："
   ]
  },
  {
   "cell_type": "code",
   "execution_count": 9,
   "metadata": {
    "ExecuteTime": {
     "end_time": "2023-11-23T03:54:56.998681Z",
     "start_time": "2023-11-23T03:54:56.976694Z"
    },
    "collapsed": false
   },
   "outputs": [
    {
     "name": "stdout",
     "output_type": "stream",
     "text": [
      "                      name                       func  cmplx   sl   el\n",
      "412        schema/field.go                 ParseField    110   99  436\n",
      "247    callbacks/update.go       ConvertToAssignments     69  131  304\n",
      "281       schema/schema.go  ParseWithSpecialTableName     68  121  370\n",
      "221    callbacks/create.go      ConvertToCreateValues     64  217  385\n",
      "125                scan.go                       Scan     62  125  342\n",
      "214           statement.go             BuildCondition     61  284  465\n",
      "413        schema/field.go       setupValuerAndSetter     46  439  969\n",
      "860  tests/migrate_test.go         TestMigrateColumns     44  517  645\n",
      "182   migrator/migrator.go              MigrateColumn     41  441  542\n",
      "269     callbacks/query.go              BuildQuerySQL     41   33  266\n"
     ]
    }
   ],
   "source": [
    "%%python\n",
    "import pandas as pd\n",
    "data = pd.read_json('~/work/opensource/out/query.json')\n",
    "data.sort_values('cmplx', ascending=False, inplace=True)\n",
    "top_10 = data.head(10)\n",
    "print(top_10)"
   ]
  },
  {
   "cell_type": "markdown",
   "metadata": {
    "collapsed": false
   },
   "source": [
    "Enjoy！"
   ]
  }
 ],
 "metadata": {
  "kernelspec": {
   "display_name": "Godel kernel",
   "language": "rust",
   "name": "godel-jupyter"
  },
  "language_info": {
   "file_extension": ".gdl",
   "help_links": [
    {
     "text": "Godel kernel Magics",
     "url": "https://sparrow.alipay.com"
    }
   ],
   "mimetype": "text/rust",
   "name": "rust",
   "version": "0.0.3"
  }
 },
 "nbformat": 4,
 "nbformat_minor": 2
}
